{
 "cells": [
  {
   "cell_type": "markdown",
   "metadata": {},
   "source": [
    "**Aluno:** Ramon Pereira Vilela"
   ]
  },
  {
   "cell_type": "code",
   "execution_count": 5,
   "metadata": {},
   "outputs": [],
   "source": [
    "from tweepy import OAuthHandler\n",
    "from tweepy import Stream\n",
    "from tweepy.streaming import StreamListener\n",
    "import time"
   ]
  },
  {
   "cell_type": "code",
   "execution_count": 6,
   "metadata": {},
   "outputs": [],
   "source": [
    "# setup security \n",
    "access_token = ''\n",
    "access_token_secret = ''\n",
    "consumer_key = ''\n",
    "consumer_secret = ''\n",
    "\n",
    "# setup file store\n",
    "file = 'C:\\\\Material_Ramon_2\\\\Pos_Graduacao\\\\PUC MINAS\\\\Ciência de Dados e Big Data\\Módulo 14 - Recuperação da Informação na Web e em Redes Sociais\\\\tweets-sample-3.json'"
   ]
  },
  {
   "cell_type": "code",
   "execution_count": 7,
   "metadata": {},
   "outputs": [],
   "source": [
    "class MyListener(StreamListener):\n",
    "        \n",
    "    \n",
    "    def __init__(self, file):\n",
    "        global the_file\n",
    "        self.the_file = open(file, 'w')\n",
    "        \n",
    "    def on_data(self, data):\n",
    "        self.the_file.write(data)\n",
    "        return True\n",
    "    \n",
    "    def on_error(self, status):\n",
    "        print(status)\n",
    "        \n",
    "    def file_close(self):\n",
    "        self.the_file.close()        "
   ]
  },
  {
   "cell_type": "code",
   "execution_count": 5,
   "metadata": {},
   "outputs": [
    {
     "name": "stdout",
     "output_type": "stream",
     "text": [
      "**Finish**\n"
     ]
    }
   ],
   "source": [
    "listener = MyListener(file)\n",
    "oauth = OAuthHandler(consumer_key, consumer_secret)\n",
    "oauth.set_access_token(access_token, access_token_secret)\n",
    "\n",
    "max_time = 30 # in seconds\n",
    "start_time = time.time() \n",
    "\n",
    "## collecting...\n",
    "stream = Stream(oauth, listener)\n",
    "#stream.filter(track=['copa', 'neymar', 'messi'],async=True,languages=['pt'])\n",
    "stream.filter(track=['neymar', 'lukaku', 'messi', 'modric', 'mbappe','pogba','rakitic','cr7','hazard', 'kante', 'kane'],async=True)\n",
    "\n",
    "elapsed_time = (time.time() - start_time)\n",
    "while  elapsed_time < max_time:\n",
    "    elapsed_time = (time.time() - start_time)\n",
    "\n",
    "    \n",
    "print('**Finish**')\n",
    "stream.disconnect()\n",
    "listener.file_close()"
   ]
  },
  {
   "cell_type": "code",
   "execution_count": 8,
   "metadata": {},
   "outputs": [],
   "source": [
    "import json\n",
    "import pandas as pd\n",
    "import matplotlib.pyplot as plt"
   ]
  },
  {
   "cell_type": "code",
   "execution_count": 9,
   "metadata": {},
   "outputs": [],
   "source": [
    "tweets_data = []\n",
    "tweets_file = open(file, \"r\")\n",
    "for line in tweets_file:\n",
    "    try:\n",
    "        tweet = json.loads(line)\n",
    "        tweets_data.append(tweet)\n",
    "    except:\n",
    "        continue\n",
    "        "
   ]
  },
  {
   "cell_type": "code",
   "execution_count": 10,
   "metadata": {},
   "outputs": [
    {
     "name": "stdout",
     "output_type": "stream",
     "text": [
      "  lang                                               text country\n",
      "0   en  @TeamCRonaldo I love Cristiano. And I'm a Mess...    None\n",
      "1   en  RT @TheManUtdWay: Other footballers bring thei...    None\n",
      "2   ht  RT @ActuFoot_: Deschamps\\nLloris\\nMandanda\\nAr...    None\n",
      "3   en  RT @brfootball: Luka Modric joins the Golden B...    None\n",
      "4   en                  Love this https://t.co/zcamoyqtZh    None\n",
      "5   en  RT @FootballVines: Mbappé walking into the PSG...    None\n",
      "6   fr  RT @sarahmghr: MERCI DESCHAMPS\\nMERCI GRIEZMAN...    None\n",
      "7   es  RT @ivan_2511: Lo más triste es que Mbappe con...    None\n",
      "8   ht  RT @ZombiaxX: Non mais Griezmann qui coupe Pau...    None\n",
      "9   en  RT @MasAbukar: Pogba when he’s back with Manch...    None\n"
     ]
    }
   ],
   "source": [
    "tweets = pd.DataFrame()\n",
    "\n",
    "tweets['lang'] = ''\n",
    "tweets['text'] = ''\n",
    "tweets['country'] = ''\n",
    "for tweet in tweets_data:\n",
    "    if 'lang' in tweet:\n",
    "        tweets.loc[len(tweets)] = [tweet['lang'],\n",
    "                               tweet['text'],\n",
    "                               tweet['place']['country'] if tweet['place'] != None else None]\n",
    "    \n",
    "print(tweets.head(10))"
   ]
  },
  {
   "cell_type": "code",
   "execution_count": 11,
   "metadata": {},
   "outputs": [
    {
     "data": {
      "text/plain": [
       "<matplotlib.axes._subplots.AxesSubplot at 0x1d7327942b0>"
      ]
     },
     "execution_count": 11,
     "metadata": {},
     "output_type": "execute_result"
    },
    {
     "data": {
      "image/png": "[encoded data removed]",
      "text/plain": [
       "<Figure size 432x288 with 1 Axes>"
      ]
     },
     "metadata": {},
     "output_type": "display_data"
    }
   ],
   "source": [
    "tweets_by_lang = tweets['lang'].value_counts()\n",
    "\n",
    "fig, ax = plt.subplots()\n",
    "ax.tick_params(axis='x', labelsize=15)\n",
    "ax.tick_params(axis='y', labelsize=10)\n",
    "ax.set_xlabel('Languages', fontsize=15)\n",
    "ax.set_ylabel('Number of tweets' , fontsize=15)\n",
    "ax.set_title('Top 5 languages', fontsize=15, fontweight='bold')\n",
    "tweets_by_lang[:5].plot(ax=ax, kind='bar', color='red')"
   ]
  },
  {
   "cell_type": "code",
   "execution_count": 12,
   "metadata": {},
   "outputs": [
    {
     "data": {
      "text/plain": [
       "<matplotlib.axes._subplots.AxesSubplot at 0x1d733ad2748>"
      ]
     },
     "execution_count": 12,
     "metadata": {},
     "output_type": "execute_result"
    },
    {
     "data": {
      "image/png": "[encoded data removed]",
      "text/plain": [
       "<Figure size 432x288 with 1 Axes>"
      ]
     },
     "metadata": {},
     "output_type": "display_data"
    }
   ],
   "source": [
    "tweets_by_country = tweets['country'].value_counts()\n",
    "\n",
    "fig, ax = plt.subplots()\n",
    "ax.tick_params(axis='x', labelsize=15)\n",
    "ax.tick_params(axis='y', labelsize=10)\n",
    "ax.set_xlabel('Countries', fontsize=15)\n",
    "ax.set_ylabel('Number of tweets' , fontsize=15)\n",
    "ax.set_title('Top 5 countries', fontsize=15, fontweight='bold')\n",
    "tweets_by_country[:5].plot(ax=ax, kind='bar', color='blue')"
   ]
  },
  {
   "cell_type": "code",
   "execution_count": 13,
   "metadata": {},
   "outputs": [],
   "source": [
    "import re\n",
    "def word_in_text(word, text):\n",
    "    word = word.lower()\n",
    "    text = text.lower()\n",
    "    match = re.search(word, text)\n",
    "    if match:\n",
    "        return True\n",
    "    return False"
   ]
  },
  {
   "cell_type": "code",
   "execution_count": 14,
   "metadata": {},
   "outputs": [
    {
     "data": {
      "text/html": [
       "<div>\n",
       "<style scoped>\n",
       "    .dataframe tbody tr th:only-of-type {\n",
       "        vertical-align: middle;\n",
       "    }\n",
       "\n",
       "    .dataframe tbody tr th {\n",
       "        vertical-align: top;\n",
       "    }\n",
       "\n",
       "    .dataframe thead th {\n",
       "        text-align: right;\n",
       "    }\n",
       "</style>\n",
       "<table border=\"1\" class=\"dataframe\">\n",
       "  <thead>\n",
       "    <tr style=\"text-align: right;\">\n",
       "      <th></th>\n",
       "      <th>lang</th>\n",
       "      <th>text</th>\n",
       "      <th>country</th>\n",
       "      <th>player</th>\n",
       "    </tr>\n",
       "  </thead>\n",
       "  <tbody>\n",
       "    <tr>\n",
       "      <th>0</th>\n",
       "      <td>en</td>\n",
       "      <td>@TeamCRonaldo I love Cristiano. And I'm a Mess...</td>\n",
       "      <td>None</td>\n",
       "      <td>messi</td>\n",
       "    </tr>\n",
       "    <tr>\n",
       "      <th>1</th>\n",
       "      <td>en</td>\n",
       "      <td>RT @TheManUtdWay: Other footballers bring thei...</td>\n",
       "      <td>None</td>\n",
       "      <td>pogba</td>\n",
       "    </tr>\n",
       "    <tr>\n",
       "      <th>2</th>\n",
       "      <td>ht</td>\n",
       "      <td>RT @ActuFoot_: Deschamps\\nLloris\\nMandanda\\nAr...</td>\n",
       "      <td>None</td>\n",
       "      <td>pogba</td>\n",
       "    </tr>\n",
       "    <tr>\n",
       "      <th>3</th>\n",
       "      <td>en</td>\n",
       "      <td>RT @brfootball: Luka Modric joins the Golden B...</td>\n",
       "      <td>None</td>\n",
       "      <td>modric</td>\n",
       "    </tr>\n",
       "    <tr>\n",
       "      <th>4</th>\n",
       "      <td>en</td>\n",
       "      <td>Love this https://t.co/zcamoyqtZh</td>\n",
       "      <td>None</td>\n",
       "      <td>None</td>\n",
       "    </tr>\n",
       "    <tr>\n",
       "      <th>5</th>\n",
       "      <td>en</td>\n",
       "      <td>RT @FootballVines: Mbappé walking into the PSG...</td>\n",
       "      <td>None</td>\n",
       "      <td>neymar</td>\n",
       "    </tr>\n",
       "    <tr>\n",
       "      <th>6</th>\n",
       "      <td>fr</td>\n",
       "      <td>RT @sarahmghr: MERCI DESCHAMPS\\nMERCI GRIEZMAN...</td>\n",
       "      <td>None</td>\n",
       "      <td>pogba</td>\n",
       "    </tr>\n",
       "    <tr>\n",
       "      <th>7</th>\n",
       "      <td>es</td>\n",
       "      <td>RT @ivan_2511: Lo más triste es que Mbappe con...</td>\n",
       "      <td>None</td>\n",
       "      <td>mbappe</td>\n",
       "    </tr>\n",
       "    <tr>\n",
       "      <th>8</th>\n",
       "      <td>ht</td>\n",
       "      <td>RT @ZombiaxX: Non mais Griezmann qui coupe Pau...</td>\n",
       "      <td>None</td>\n",
       "      <td>pogba</td>\n",
       "    </tr>\n",
       "    <tr>\n",
       "      <th>9</th>\n",
       "      <td>en</td>\n",
       "      <td>RT @MasAbukar: Pogba when he’s back with Manch...</td>\n",
       "      <td>None</td>\n",
       "      <td>pogba</td>\n",
       "    </tr>\n",
       "    <tr>\n",
       "      <th>10</th>\n",
       "      <td>en</td>\n",
       "      <td>RT @kappilinho: The rise of N'Golo Kante is in...</td>\n",
       "      <td>None</td>\n",
       "      <td>kante</td>\n",
       "    </tr>\n",
       "    <tr>\n",
       "      <th>11</th>\n",
       "      <td>es</td>\n",
       "      <td>RT @MemesLiterarios: A los 19 años, Mbappe gan...</td>\n",
       "      <td>None</td>\n",
       "      <td>mbappe</td>\n",
       "    </tr>\n",
       "    <tr>\n",
       "      <th>12</th>\n",
       "      <td>fr</td>\n",
       "      <td>RT @NasNacera: Les champions du mondes Pogba e...</td>\n",
       "      <td>None</td>\n",
       "      <td>pogba</td>\n",
       "    </tr>\n",
       "    <tr>\n",
       "      <th>13</th>\n",
       "      <td>es</td>\n",
       "      <td>@SC_ESPN Ahora cualquier Niño que se destaca c...</td>\n",
       "      <td>None</td>\n",
       "      <td>messi</td>\n",
       "    </tr>\n",
       "    <tr>\n",
       "      <th>14</th>\n",
       "      <td>fr</td>\n",
       "      <td>RT @QBINZE: Ptdrrr giga chemise ouverte c’est ...</td>\n",
       "      <td>None</td>\n",
       "      <td>mbappe</td>\n",
       "    </tr>\n",
       "    <tr>\n",
       "      <th>15</th>\n",
       "      <td>en</td>\n",
       "      <td>RT @MourinhoMindset: Using \"Paul Pogba is a Wo...</td>\n",
       "      <td>None</td>\n",
       "      <td>pogba</td>\n",
       "    </tr>\n",
       "    <tr>\n",
       "      <th>16</th>\n",
       "      <td>en</td>\n",
       "      <td>RT @AndImLee: Pogba doing the Gwarra Gwarra an...</td>\n",
       "      <td>None</td>\n",
       "      <td>pogba</td>\n",
       "    </tr>\n",
       "    <tr>\n",
       "      <th>17</th>\n",
       "      <td>en</td>\n",
       "      <td>@beinsports_FR Mbappe 😍</td>\n",
       "      <td>None</td>\n",
       "      <td>mbappe</td>\n",
       "    </tr>\n",
       "    <tr>\n",
       "      <th>18</th>\n",
       "      <td>es</td>\n",
       "      <td>Pobre Cr7...es crack, pero va a vivir a la som...</td>\n",
       "      <td>None</td>\n",
       "      <td>cr7</td>\n",
       "    </tr>\n",
       "    <tr>\n",
       "      <th>19</th>\n",
       "      <td>ht</td>\n",
       "      <td>RT @utdxtra: Paul Pogba on the Arc de Triomphe...</td>\n",
       "      <td>None</td>\n",
       "      <td>pogba</td>\n",
       "    </tr>\n",
       "  </tbody>\n",
       "</table>\n",
       "</div>"
      ],
      "text/plain": [
       "   lang                                               text country  player\n",
       "0    en  @TeamCRonaldo I love Cristiano. And I'm a Mess...    None   messi\n",
       "1    en  RT @TheManUtdWay: Other footballers bring thei...    None   pogba\n",
       "2    ht  RT @ActuFoot_: Deschamps\\nLloris\\nMandanda\\nAr...    None   pogba\n",
       "3    en  RT @brfootball: Luka Modric joins the Golden B...    None  modric\n",
       "4    en                  Love this https://t.co/zcamoyqtZh    None    None\n",
       "5    en  RT @FootballVines: Mbappé walking into the PSG...    None  neymar\n",
       "6    fr  RT @sarahmghr: MERCI DESCHAMPS\\nMERCI GRIEZMAN...    None   pogba\n",
       "7    es  RT @ivan_2511: Lo más triste es que Mbappe con...    None  mbappe\n",
       "8    ht  RT @ZombiaxX: Non mais Griezmann qui coupe Pau...    None   pogba\n",
       "9    en  RT @MasAbukar: Pogba when he’s back with Manch...    None   pogba\n",
       "10   en  RT @kappilinho: The rise of N'Golo Kante is in...    None   kante\n",
       "11   es  RT @MemesLiterarios: A los 19 años, Mbappe gan...    None  mbappe\n",
       "12   fr  RT @NasNacera: Les champions du mondes Pogba e...    None   pogba\n",
       "13   es  @SC_ESPN Ahora cualquier Niño que se destaca c...    None   messi\n",
       "14   fr  RT @QBINZE: Ptdrrr giga chemise ouverte c’est ...    None  mbappe\n",
       "15   en  RT @MourinhoMindset: Using \"Paul Pogba is a Wo...    None   pogba\n",
       "16   en  RT @AndImLee: Pogba doing the Gwarra Gwarra an...    None   pogba\n",
       "17   en                            @beinsports_FR Mbappe 😍    None  mbappe\n",
       "18   es  Pobre Cr7...es crack, pero va a vivir a la som...    None     cr7\n",
       "19   ht  RT @utdxtra: Paul Pogba on the Arc de Triomphe...    None   pogba"
      ]
     },
     "execution_count": 14,
     "metadata": {},
     "output_type": "execute_result"
    }
   ],
   "source": [
    "## filtrando aqueles q mais foram falados (termos mais influentes)\n",
    "players = []\n",
    "for tweet in tweets_data:\n",
    "    if 'text' in tweet:\n",
    "        if word_in_text('neymar', tweet['text']):\n",
    "            players.append('neymar')\n",
    "        elif word_in_text('messi', tweet['text']):\n",
    "            players.append('messi')\n",
    "        elif word_in_text('lukaku', tweet['text']):\n",
    "            players.append('lukaku')\n",
    "        elif word_in_text('modric', tweet['text']):\n",
    "            players.append('modric')\n",
    "        elif word_in_text('hazard', tweet['text']):\n",
    "            players.append('hazard')\n",
    "        elif word_in_text('mbappe', tweet['text']):\n",
    "            players.append('mbappe')\n",
    "        elif word_in_text('cr7', tweet['text']):\n",
    "            players.append('cr7')\n",
    "        elif word_in_text('pogba', tweet['text']):\n",
    "            players.append('pogba')\n",
    "        elif word_in_text('rakitic', tweet['text']):\n",
    "            players.append('rakitic')\n",
    "        elif word_in_text('cr7', tweet['text']):\n",
    "            players.append('cr7')\n",
    "        elif word_in_text('kante', tweet['text']):\n",
    "            players.append('kante')\n",
    "        elif word_in_text('kane', tweet['text']):\n",
    "            players.append('kane')\n",
    "        else:\n",
    "            players.append('None')\n",
    "tweets['player'] = players\n",
    "tweets.head(20)"
   ]
  },
  {
   "cell_type": "code",
   "execution_count": 15,
   "metadata": {},
   "outputs": [
    {
     "data": {
      "text/plain": [
       "<matplotlib.axes._subplots.AxesSubplot at 0x1d733b3da90>"
      ]
     },
     "execution_count": 15,
     "metadata": {},
     "output_type": "execute_result"
    },
    {
     "data": {
      "image/png": "[encoded data removed]",
      "text/plain": [
       "<Figure size 432x288 with 1 Axes>"
      ]
     },
     "metadata": {},
     "output_type": "display_data"
    }
   ],
   "source": [
    "tweets_by_player = tweets['player'].value_counts()\n",
    "\n",
    "fig, ax = plt.subplots()\n",
    "ax.tick_params(axis='x', labelsize=15)\n",
    "ax.tick_params(axis='y', labelsize=10)\n",
    "ax.set_xlabel('Players', fontsize=15)\n",
    "ax.set_ylabel('Number of tweets' , fontsize=15)\n",
    "ax.set_title('Top 5 players', fontsize=15, fontweight='bold')\n",
    "tweets_by_player[:6].plot(ax=ax, kind='bar', color='green')"
   ]
  },
  {
   "cell_type": "code",
   "execution_count": null,
   "metadata": {},
   "outputs": [],
   "source": [
    "## Desafio: filtrando pelas coordenadas geográficas os tweets em português\n"
   ]
  }
 ],
 "metadata": {
  "kernelspec": {
   "display_name": "Python 3",
   "language": "python",
   "name": "python3"
  },
  "language_info": {
   "codemirror_mode": {
    "name": "ipython",
    "version": 3
   },
   "file_extension": ".py",
   "mimetype": "text/x-python",
   "name": "python",
   "nbconvert_exporter": "python",
   "pygments_lexer": "ipython3",
   "version": "3.6.5"
  }
 },
 "nbformat": 4,
 "nbformat_minor": 2
}
